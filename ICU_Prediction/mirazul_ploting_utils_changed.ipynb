{
 "cells": [
  {
   "cell_type": "code",
   "execution_count": 1,
   "metadata": {
    "ExecuteTime": {
     "end_time": "2021-07-31T05:14:59.037150Z",
     "start_time": "2021-07-31T05:14:54.140955Z"
    }
   },
   "outputs": [],
   "source": [
    "import pandas as pd \n",
    "from sklearn.metrics import *\n",
    "from sklearn.model_selection import train_test_split\n",
    "#from imblearn.over_sampling import SMOTE,ADASYN\n",
    "#import optuna\n",
    "import lightgbm as lgb\n",
    "import xgboost as xgb\n",
    "import matplotlib.pyplot as plt\n",
    "from collections import Counter\n",
    "import seaborn as sns \n",
    "#from sklearn.ensemble import RandomForestClassifier\n",
    "%matplotlib inline\n",
    "plt.rcParams.update({'font.size': 16})"
   ]
  },
  {
   "cell_type": "code",
   "execution_count": 2,
   "metadata": {
    "ExecuteTime": {
     "end_time": "2021-07-31T05:14:59.052815Z",
     "start_time": "2021-07-31T05:14:59.040851Z"
    }
   },
   "outputs": [],
   "source": [
    "def precision_recall_thershold(pred_proba, y_test):\n",
    "    t_recall_nodiab, t_recall_diab = [], []\n",
    "    t_precision_nodiab, t_precision_diab = [], []\n",
    "\n",
    "    for thresh in np.arange(0, 1, 0.01):\n",
    "        precision, recall, fscore, support = \\\n",
    "                precision_recall_fscore_support(\n",
    "                        y_test,\n",
    "                        np.where(pred_proba[:,0] > thresh, 0, 1))\n",
    "        recall_nodiab, recall_diab = recall\n",
    "        precision_nodiab, precision_diab = precision\n",
    "\n",
    "        t_recall_nodiab.append(recall_nodiab)\n",
    "        t_recall_diab.append(recall_diab)\n",
    "\n",
    "        t_precision_nodiab.append(precision_nodiab)\n",
    "        t_precision_diab.append(precision_diab)\n",
    "\n",
    "    return t_precision_nodiab, t_precision_diab, \\\n",
    "            t_recall_nodiab, t_recall_diab\n"
   ]
  },
  {
   "cell_type": "code",
   "execution_count": 3,
   "metadata": {
    "ExecuteTime": {
     "end_time": "2021-07-31T05:14:59.084732Z",
     "start_time": "2021-07-31T05:14:59.064782Z"
    }
   },
   "outputs": [],
   "source": [
    "def roc_interp(fpr_tpr):\n",
    "    linsp = np.linspace(0, 1, 100)\n",
    "    n_boot = len(fpr_tpr)\n",
    "    ys = []\n",
    "    for n in fpr_tpr:\n",
    "        x, y = n\n",
    "        interp = np.interp(linsp, x, y)\n",
    "        ys.append(interp)\n",
    "    return ys\n",
    "\n",
    "\n"
   ]
  },
  {
   "cell_type": "code",
   "execution_count": 4,
   "metadata": {
    "ExecuteTime": {
     "end_time": "2021-07-31T05:14:59.099690Z",
     "start_time": "2021-07-31T05:14:59.087722Z"
    }
   },
   "outputs": [],
   "source": [
    "def plot_recall_vs_decision_boundary(\n",
    "        t_recall_diab,\n",
    "        t_recall_nodiab,\n",
    "        filename):\n",
    "\n",
    "    plt.figure(figsize=(10,8))\n",
    "    plt.plot(np.arange(0, 1, 0.01), t_recall_diab,   label='ICU-no')\n",
    "    plt.plot(np.arange(0, 1, 0.01), t_recall_nodiab, label='ICU-yes')\n",
    "    plt.plot([.5, .5], [0, 1], 'k--')\n",
    "    plt.plot([.77, .77], [0, 1], 'k--')\n",
    "    plt.ylim([0.0, 1.01])\n",
    "    plt.xlim([0.0, 1.0])\n",
    "    plt.legend(loc='upper left', fontsize=16)\n",
    "    #plt.title('Recall vs. Decision Boundary\\n',\n",
    "              #fontsize=16)\n",
    "    plt.xlabel('Decision Boundary (T)', fontsize=25)\n",
    "    plt.ylabel('Recall Rate', fontsize=25)\n",
    "    plt.tick_params(axis='both', which='major', labelsize=20)\n",
    "    plt.savefig(filename,dpi=600)\n",
    "    plt.show()\n",
    "\n",
    "\n"
   ]
  },
  {
   "cell_type": "code",
   "execution_count": 5,
   "metadata": {
    "ExecuteTime": {
     "end_time": "2021-07-31T05:14:59.130726Z",
     "start_time": "2021-07-31T05:14:59.103680Z"
    }
   },
   "outputs": [],
   "source": [
    "def plot_multi_recall_vs_decision_boundary(\n",
    "        probas,\n",
    "        y_test,\n",
    "        filename):\n",
    "\n",
    "    f, (ax1, ax2) = plt.subplots(1, 2, figsize=(13,6))\n",
    "    ax1.plot([.5, .5], [0, 1], 'k--')\n",
    "    ax2.plot([.5, .5], [0, 1], 'k--')\n",
    "    ax1.set_ylim([-0.01, 1.009])\n",
    "    ax1.set_xlim([0.0, 1])\n",
    "    ax2.set_ylim([-0.01, 1.009])\n",
    "    ax2.set_xlim([0.0, 1])\n",
    "    ax1.set_xlabel('(a) Decision Boundary (T)'\n",
    "                   , fontsize=16)\n",
    "    ax1.set_ylabel('Recall Rate', fontsize=16)\n",
    "    ax1.tick_params(axis='both', which='major', labelsize=20)\n",
    "    ax2.set_xlabel('(b) Decision Boundary (T)', fontsize=16)\n",
    "    ax2.set_ylabel('Recall Rate', fontsize=16)\n",
    "    ax2.tick_params(axis='both', which='major', labelsize=20)\n",
    "    for p in probas:\n",
    "        t_prec_nodiab, t_prec_diab, t_recall_nodiab, t_recall_diab = \\\n",
    "                precision_recall_thershold(probas[p], y_test)\n",
    "        ax1.plot(np.arange(0, 1, 0.01), t_recall_diab,   label=p)\n",
    "        ax1.set_title('ICU-no\\n'\n",
    "                      'Recall vs. Decision Boundary',\n",
    "                      fontsize=16)\n",
    "        ax2.plot(np.arange(0, 1, 0.01), t_recall_nodiab, label=p)\n",
    "        ax2.set_title('ICU-yes\\n'\n",
    "                      'Recall vs. Decision Boundary',\n",
    "                      fontsize=16)\n",
    "    ax1.legend(loc='lower right')\n",
    "    ax2.legend(loc='lower left')\n",
    "    plt.savefig(filename,dpi=600)\n",
    "    plt.show()\n",
    "\n",
    "\n",
    "\n"
   ]
  },
  {
   "cell_type": "code",
   "execution_count": 6,
   "metadata": {
    "ExecuteTime": {
     "end_time": "2021-07-31T05:14:59.146565Z",
     "start_time": "2021-07-31T05:14:59.133600Z"
    }
   },
   "outputs": [],
   "source": [
    "def plot_roc_curves(df_preds, y_test, filename):\n",
    "    plt.figure(figsize=(10,8))\n",
    "    for model in df_preds.columns:\n",
    "        fpr, tpr, thresholds = roc_curve(y_test,\n",
    "                                                 df_preds.loc[:,model])\n",
    "        print('{}\\n  AUC: {}'.format(model, round(auc(fpr, tpr), 3)))\n",
    "        plt.plot(fpr, tpr, label=model)\n",
    "    plt.plot([0, 1], [0, 1], 'k--')\n",
    "    plt.xlim([-0.05, 1.0])\n",
    "    plt.ylim([-0.01, 1.01])\n",
    "    plt.legend(loc='lower right', fontsize=16)\n",
    "    plt.xlabel('False Positive Rate', fontsize=25)\n",
    "    plt.ylabel('True Positive Rate', fontsize=25)\n",
    "    #25plt.title('ROC Curve', fontsize=16)\n",
    "    plt.tick_params(axis='both', which='major', labelsize=20)\n",
    "    plt.savefig(filename,dpi=600)\n",
    "    plt.show()\n",
    "\n",
    "\n"
   ]
  },
  {
   "cell_type": "code",
   "execution_count": 7,
   "metadata": {
    "ExecuteTime": {
     "end_time": "2021-07-31T05:14:59.177482Z",
     "start_time": "2021-07-31T05:14:59.151556Z"
    }
   },
   "outputs": [],
   "source": [
    "def plot_bootstrap_roc(m, ci, filename):\n",
    "    x = np.linspace(0,1,100)\n",
    "    plt.figure(figsize=(10,8))\n",
    "    plt.plot(x, m, c='blue', label='ROC Mean')\n",
    "    plt.plot(x, ci[0], c='grey', label='95% CI')\n",
    "    plt.plot(x, ci[1], c='grey')\n",
    "    plt.fill_between(x, ci[0], ci[1], color='grey', alpha=0.25)\n",
    "    plt.plot([0, 1], [0, 1], 'k--')\n",
    "    plt.xlim([0.0, 1.0])\n",
    "    plt.ylim([0.0, 1.01])\n",
    "    plt.legend(loc='lower right', fontsize=16)\n",
    "    plt.xlabel('False Positive Rate', fontsize=25)\n",
    "    plt.ylabel('True Positive Rate', fontsize=25)\n",
    "    #plt.title('Bootstrap ROC Curve', fontsize=16)\n",
    "    plt.tick_params(axis='both', which='major', labelsize=20)\n",
    "    plt.savefig(filename,dpi=600)\n",
    "    plt.show()"
   ]
  },
  {
   "cell_type": "code",
   "execution_count": 8,
   "metadata": {
    "ExecuteTime": {
     "end_time": "2021-07-31T05:14:59.207414Z",
     "start_time": "2021-07-31T05:14:59.186461Z"
    }
   },
   "outputs": [],
   "source": [
    "def plot_multi_precison_vs_recall_curve(\n",
    "        probas,\n",
    "        y_test,\n",
    "        filename):\n",
    "\n",
    "    plt.figure(figsize=(10,8))\n",
    "    for p in probas:\n",
    "        precision,recall,threshold=precision_recall_curve(y_test,probas[p])\n",
    "        \n",
    "        plt.plot(recall, precision, label=p)\n",
    "    plt.plot([0, 1], [0, 1], 'k--')\n",
    "    plt.xlim([-0.05, 1.0])\n",
    "    plt.ylim([-0.01, 1.01])\n",
    "    plt.legend(loc='lower right', fontsize=15)\n",
    "    plt.xlabel('Recall', fontsize=25)\n",
    "    plt.ylabel('Precision', fontsize=25)\n",
    "    #plt.title('precison_vs_recall_curve', fontsize=14)\n",
    "    plt.tick_params(axis='both', which='major', labelsize=20)\n",
    "    plt.savefig(filename,dpi=600)\n",
    "    plt.show()"
   ]
  },
  {
   "cell_type": "code",
   "execution_count": 9,
   "metadata": {
    "ExecuteTime": {
     "end_time": "2021-07-31T05:14:59.238563Z",
     "start_time": "2021-07-31T05:14:59.213386Z"
    }
   },
   "outputs": [],
   "source": [
    "def bootstrap_model(model, X, y, X_test, y_test, n_bootstrap, thresh):\n",
    "    total_recall = []\n",
    "    total_precision = []\n",
    "    total_fscore = []\n",
    "    total_fpr_tpr = []\n",
    "    size = X.shape[0]\n",
    "\n",
    "    for _ in range(n_bootstrap):\n",
    "        boot_ind = np.random.randint(size, size=size)\n",
    "        X_boot = X.loc[boot_ind]\n",
    "        y_boot = y.loc[boot_ind]\n",
    "\n",
    "        clf = model.fit(X_boot, y_boot)\n",
    "        y_pred = clf.predict_proba(X_test)[:,0]\n",
    "        precision, recall, fscore, _ = precision_recall_fscore_support(\n",
    "            y_test, np.where(y_pred > thresh, 0, 1))\n",
    "\n",
    "        fpr, tpr, thresholds = roc_curve(y_test, 1 - y_pred)\n",
    "        fpr_tpr = (fpr, tpr)\n",
    "        total_fpr_tpr.append(fpr_tpr)\n",
    "        total_recall.append(recall[1])\n",
    "        total_precision.append(precision[1])\n",
    "        total_fscore.append(fscore[1])\n",
    "\n",
    "    results = dict(recall=total_recall,\n",
    "                   precision=total_precision,\n",
    "                   fscore=total_fscore,\n",
    "                   fpr_tpr=total_fpr_tpr)\n",
    "\n",
    "    return results"
   ]
  },
  {
   "cell_type": "code",
   "execution_count": null,
   "metadata": {},
   "outputs": [],
   "source": []
  },
  {
   "cell_type": "code",
   "execution_count": null,
   "metadata": {},
   "outputs": [],
   "source": []
  }
 ],
 "metadata": {
  "kernelspec": {
   "display_name": "Python 3 (ipykernel)",
   "language": "python",
   "name": "python3"
  },
  "language_info": {
   "codemirror_mode": {
    "name": "ipython",
    "version": 3
   },
   "file_extension": ".py",
   "mimetype": "text/x-python",
   "name": "python",
   "nbconvert_exporter": "python",
   "pygments_lexer": "ipython3",
   "version": "3.9.13"
  },
  "varInspector": {
   "cols": {
    "lenName": 16,
    "lenType": 16,
    "lenVar": 40
   },
   "kernels_config": {
    "python": {
     "delete_cmd_postfix": "",
     "delete_cmd_prefix": "del ",
     "library": "var_list.py",
     "varRefreshCmd": "print(var_dic_list())"
    },
    "r": {
     "delete_cmd_postfix": ") ",
     "delete_cmd_prefix": "rm(",
     "library": "var_list.r",
     "varRefreshCmd": "cat(var_dic_list()) "
    }
   },
   "types_to_exclude": [
    "module",
    "function",
    "builtin_function_or_method",
    "instance",
    "_Feature"
   ],
   "window_display": false
  }
 },
 "nbformat": 4,
 "nbformat_minor": 4
}
